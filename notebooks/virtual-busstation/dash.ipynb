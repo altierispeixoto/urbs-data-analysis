{
 "cells": [
  {
   "cell_type": "code",
   "execution_count": 2,
   "metadata": {},
   "outputs": [],
   "source": [
    "import cuxfilter\n",
    "from bokeh import palettes\n",
    "from cuxfilter.layouts import double_feature\n",
    "import cuxfilter\n",
    "from cuxfilter import charts\n",
    "import cudf"
   ]
  },
  {
   "cell_type": "code",
   "execution_count": 71,
   "metadata": {},
   "outputs": [
    {
     "name": "stdout",
     "output_type": "stream",
     "text": [
      "eda-template.ipynb\t\t     neo4j-eda.ipynb\n",
      "libpysal_non_planar_joins_viz.ipynb  virtual-busstation\n"
     ]
    }
   ],
   "source": [
    "!ls"
   ]
  },
  {
   "cell_type": "code",
   "execution_count": 72,
   "metadata": {},
   "outputs": [],
   "source": [
    "cudf_df = cudf.read_csv('virtual-busstation/joined.csv')"
   ]
  },
  {
   "cell_type": "code",
   "execution_count": 73,
   "metadata": {},
   "outputs": [
    {
     "data": {
      "text/html": [
       "<div>\n",
       "<style scoped>\n",
       "    .dataframe tbody tr th:only-of-type {\n",
       "        vertical-align: middle;\n",
       "    }\n",
       "\n",
       "    .dataframe tbody tr th {\n",
       "        vertical-align: top;\n",
       "    }\n",
       "\n",
       "    .dataframe thead th {\n",
       "        text-align: right;\n",
       "    }\n",
       "</style>\n",
       "<table border=\"1\" class=\"dataframe\">\n",
       "  <thead>\n",
       "    <tr style=\"text-align: right;\">\n",
       "      <th></th>\n",
       "      <th>line_code</th>\n",
       "      <th>line_way</th>\n",
       "      <th>number</th>\n",
       "      <th>name</th>\n",
       "      <th>seq</th>\n",
       "      <th>latitude</th>\n",
       "      <th>longitude</th>\n",
       "      <th>type</th>\n",
       "      <th>year</th>\n",
       "      <th>month</th>\n",
       "      <th>day</th>\n",
       "      <th>h3</th>\n",
       "      <th>CODIGO</th>\n",
       "      <th>NOME</th>\n",
       "      <th>CD_REGIONA</th>\n",
       "      <th>NM_REGIONA</th>\n",
       "    </tr>\n",
       "  </thead>\n",
       "  <tbody>\n",
       "    <tr>\n",
       "      <th>0</th>\n",
       "      <td>474</td>\n",
       "      <td>Jd. Itibere</td>\n",
       "      <td>140610</td>\n",
       "      <td>Av. Comendador Franco, 5350 - Uberaba</td>\n",
       "      <td>20</td>\n",
       "      <td>-25.477737</td>\n",
       "      <td>-49.225416</td>\n",
       "      <td>Novo mobiliario</td>\n",
       "      <td>2019</td>\n",
       "      <td>3</td>\n",
       "      <td>10</td>\n",
       "      <td>8aa8313664e7fff</td>\n",
       "      <td>37.0</td>\n",
       "      <td>UBERABA</td>\n",
       "      <td>3.0</td>\n",
       "      <td>REGIONAL CAJURU</td>\n",
       "    </tr>\n",
       "    <tr>\n",
       "      <th>1</th>\n",
       "      <td>060</td>\n",
       "      <td>Terminal Pinheirinho</td>\n",
       "      <td>180212</td>\n",
       "      <td>Av. Juscelino Kubitschek de Oliveira,9008 - Ci...</td>\n",
       "      <td>22</td>\n",
       "      <td>-25.512812</td>\n",
       "      <td>-49.337605</td>\n",
       "      <td>Domus</td>\n",
       "      <td>2019</td>\n",
       "      <td>3</td>\n",
       "      <td>10</td>\n",
       "      <td>8aa804db3d57fff</td>\n",
       "      <td>75.0</td>\n",
       "      <td>CIDADE INDUSTRIAL DE CURITIBA</td>\n",
       "      <td>11.0</td>\n",
       "      <td>REGIONAL CIC</td>\n",
       "    </tr>\n",
       "    <tr>\n",
       "      <th>2</th>\n",
       "      <td>609</td>\n",
       "      <td>Praca Rui Barbosa</td>\n",
       "      <td>180074</td>\n",
       "      <td>Rua Pedro Gusso, 4150 - Cidade Industrial</td>\n",
       "      <td>2</td>\n",
       "      <td>-25.511477</td>\n",
       "      <td>-49.328306</td>\n",
       "      <td>Novo mobiliario</td>\n",
       "      <td>2019</td>\n",
       "      <td>3</td>\n",
       "      <td>10</td>\n",
       "      <td>8aa804db2357fff</td>\n",
       "      <td>75.0</td>\n",
       "      <td>CIDADE INDUSTRIAL DE CURITIBA</td>\n",
       "      <td>11.0</td>\n",
       "      <td>REGIONAL CIC</td>\n",
       "    </tr>\n",
       "    <tr>\n",
       "      <th>3</th>\n",
       "      <td>948</td>\n",
       "      <td>Butiatuvinha</td>\n",
       "      <td>106008</td>\n",
       "      <td>Terminal Santa Felicidade - 913 - Butiatuvinha</td>\n",
       "      <td>1</td>\n",
       "      <td>-25.401231</td>\n",
       "      <td>-49.329875</td>\n",
       "      <td>Plataforma</td>\n",
       "      <td>2019</td>\n",
       "      <td>3</td>\n",
       "      <td>10</td>\n",
       "      <td>8aa804cb4557fff</td>\n",
       "      <td>63.0</td>\n",
       "      <td>SANTA FELICIDADE</td>\n",
       "      <td>5.0</td>\n",
       "      <td>REGIONAL SANTA FELICIDADE</td>\n",
       "    </tr>\n",
       "    <tr>\n",
       "      <th>4</th>\n",
       "      <td>706</td>\n",
       "      <td>Praca Rui Barbosa (Via Amadeu Amaral) - Domingo</td>\n",
       "      <td>180637</td>\n",
       "      <td>Avenida Presidente Getulio Vargas, 4557 - Rebo...</td>\n",
       "      <td>25</td>\n",
       "      <td>-25.456753</td>\n",
       "      <td>-49.302465</td>\n",
       "      <td>Novo mobiliario</td>\n",
       "      <td>2019</td>\n",
       "      <td>3</td>\n",
       "      <td>10</td>\n",
       "      <td>8aa804d922d7fff</td>\n",
       "      <td>28.0</td>\n",
       "      <td>VILA IZABEL</td>\n",
       "      <td>7.0</td>\n",
       "      <td>REGIONAL PORTÃO</td>\n",
       "    </tr>\n",
       "  </tbody>\n",
       "</table>\n",
       "</div>"
      ],
      "text/plain": [
       "  line_code                                         line_way  number  \\\n",
       "0       474                                      Jd. Itibere  140610   \n",
       "1       060                             Terminal Pinheirinho  180212   \n",
       "2       609                                Praca Rui Barbosa  180074   \n",
       "3       948                                     Butiatuvinha  106008   \n",
       "4       706  Praca Rui Barbosa (Via Amadeu Amaral) - Domingo  180637   \n",
       "\n",
       "                                                name  seq   latitude  \\\n",
       "0              Av. Comendador Franco, 5350 - Uberaba   20 -25.477737   \n",
       "1  Av. Juscelino Kubitschek de Oliveira,9008 - Ci...   22 -25.512812   \n",
       "2          Rua Pedro Gusso, 4150 - Cidade Industrial    2 -25.511477   \n",
       "3     Terminal Santa Felicidade - 913 - Butiatuvinha    1 -25.401231   \n",
       "4  Avenida Presidente Getulio Vargas, 4557 - Rebo...   25 -25.456753   \n",
       "\n",
       "   longitude             type  year  month  day               h3  CODIGO  \\\n",
       "0 -49.225416  Novo mobiliario  2019      3   10  8aa8313664e7fff    37.0   \n",
       "1 -49.337605            Domus  2019      3   10  8aa804db3d57fff    75.0   \n",
       "2 -49.328306  Novo mobiliario  2019      3   10  8aa804db2357fff    75.0   \n",
       "3 -49.329875       Plataforma  2019      3   10  8aa804cb4557fff    63.0   \n",
       "4 -49.302465  Novo mobiliario  2019      3   10  8aa804d922d7fff    28.0   \n",
       "\n",
       "                            NOME  CD_REGIONA                 NM_REGIONA  \n",
       "0                        UBERABA         3.0            REGIONAL CAJURU  \n",
       "1  CIDADE INDUSTRIAL DE CURITIBA        11.0               REGIONAL CIC  \n",
       "2  CIDADE INDUSTRIAL DE CURITIBA        11.0               REGIONAL CIC  \n",
       "3               SANTA FELICIDADE         5.0  REGIONAL SANTA FELICIDADE  \n",
       "4                    VILA IZABEL         7.0            REGIONAL PORTÃO  "
      ]
     },
     "execution_count": 73,
     "metadata": {},
     "output_type": "execute_result"
    }
   ],
   "source": [
    "cudf_df.head()"
   ]
  },
  {
   "cell_type": "code",
   "execution_count": 74,
   "metadata": {},
   "outputs": [],
   "source": [
    "cux_df = cuxfilter.DataFrame.from_dataframe(cudf_df)"
   ]
  },
  {
   "cell_type": "code",
   "execution_count": 75,
   "metadata": {},
   "outputs": [],
   "source": [
    "from bokeh.tile_providers import get_provider as gp\n",
    "tile_provider = gp('CARTODBPOSITRON')"
   ]
  },
  {
   "cell_type": "code",
   "execution_count": 76,
   "metadata": {},
   "outputs": [],
   "source": [
    "# add mappings for day of week\n",
    "label_map = {\n",
    "    1: 'Sunday',\n",
    "    2: 'Monday',\n",
    "    3: 'Tuesday',\n",
    "    4: 'Wednesday',\n",
    "    5: 'Thursday',\n",
    "    6: 'Friday',\n",
    "    7: 'Saturday',\n",
    "    9: 'Unknown'\n",
    "}\n",
    "\n",
    "gtc_demo_red_blue_palette = [ \"#3182bd\", \"#6baed6\", \"#7b8ed8\", \"#e26798\", \"#ff0068\" , \"#323232\" ]\n",
    "\n",
    "chart1 = charts.scatter(x='latitude', y='longitude', aggregate_col='DAY_WEEK', aggregate_fn='mean',\n",
    "                                        tile_provider=tile_provider,\n",
    "                                         color_palette=gtc_demo_red_blue_palette,pixel_shade_type='linear')\n",
    "\n",
    "chart2 = charts.bar('YEAR')\n",
    "\n",
    "chart3 = charts.multi_select('DAY_WEEK', label_map=label_map)"
   ]
  },
  {
   "cell_type": "code",
   "execution_count": 77,
   "metadata": {},
   "outputs": [],
   "source": [
    "# chart1 = cuxfilter.charts.scatter(x='latitude',\n",
    "#                                  y='longitude', pixel_shade_type='log', legend_position='center',\n",
    "#                                  tile_provider=tile_provider, x_range=(-8239910.23,-8229529.24), y_range=(4968481.34,4983152.92))\n",
    "\n",
    "drop_down = cuxfilter.charts.drop_down('CODIGO')\n",
    "#chart2 = cuxfilter.charts.bar('passenger_count', data_points=9)"
   ]
  },
  {
   "cell_type": "code",
   "execution_count": 1,
   "metadata": {},
   "outputs": [
    {
     "ename": "NameError",
     "evalue": "name 'cux_df' is not defined",
     "output_type": "error",
     "traceback": [
      "\u001b[0;31m---------------------------------------------------------------------------\u001b[0m",
      "\u001b[0;31mNameError\u001b[0m                                 Traceback (most recent call last)",
      "\u001b[0;32m<ipython-input-1-4316e9d322f5>\u001b[0m in \u001b[0;36m<module>\u001b[0;34m\u001b[0m\n\u001b[0;32m----> 1\u001b[0;31m \u001b[0md\u001b[0m \u001b[0;34m=\u001b[0m \u001b[0mcux_df\u001b[0m\u001b[0;34m.\u001b[0m\u001b[0mdashboard\u001b[0m\u001b[0;34m(\u001b[0m\u001b[0;34m[\u001b[0m\u001b[0mchart1\u001b[0m\u001b[0;34m,\u001b[0m \u001b[0mchart3\u001b[0m\u001b[0;34m,\u001b[0m \u001b[0mchart2\u001b[0m\u001b[0;34m]\u001b[0m\u001b[0;34m,\u001b[0m \u001b[0mlayout\u001b[0m\u001b[0;34m=\u001b[0m\u001b[0mcuxfilter\u001b[0m\u001b[0;34m.\u001b[0m\u001b[0mlayouts\u001b[0m\u001b[0;34m.\u001b[0m\u001b[0mfeature_and_base\u001b[0m\u001b[0;34m,\u001b[0m\u001b[0mtheme\u001b[0m \u001b[0;34m=\u001b[0m \u001b[0mcuxfilter\u001b[0m\u001b[0;34m.\u001b[0m\u001b[0mthemes\u001b[0m\u001b[0;34m.\u001b[0m\u001b[0mrapids\u001b[0m\u001b[0;34m,\u001b[0m \u001b[0mtitle\u001b[0m\u001b[0;34m=\u001b[0m\u001b[0;34m'Auto Accident Dataset'\u001b[0m\u001b[0;34m)\u001b[0m\u001b[0;34m\u001b[0m\u001b[0;34m\u001b[0m\u001b[0m\n\u001b[0m",
      "\u001b[0;31mNameError\u001b[0m: name 'cux_df' is not defined"
     ]
    }
   ],
   "source": [
    "d = cux_df.dashboard([chart1, chart3, chart2], layout=cuxfilter.layouts.feature_and_base,theme = cuxfilter.themes.rapids, title='Auto Accident Dataset')"
   ]
  },
  {
   "cell_type": "code",
   "execution_count": 79,
   "metadata": {},
   "outputs": [
    {
     "data": {},
     "metadata": {},
     "output_type": "display_data"
    },
    {
     "data": {
      "application/vnd.holoviews_exec.v0+json": "",
      "text/html": [
       "<div id='11193'>\n",
       "\n",
       "\n",
       "\n",
       "\n",
       "\n",
       "  <div class=\"bk-root\" id=\"f1e79687-277e-4d45-9253-e24ca7990a89\" data-root-id=\"11193\"></div>\n",
       "</div>\n",
       "<script type=\"application/javascript\">(function(root) {\n",
       "  function embed_document(root) {\n",
       "  var docs_json = {\"6686dcb1-6fdd-43d4-b325-567f46a669b6\":{\"roots\":{\"references\":[{\"attributes\":{\"client_comm_id\":\"6ebd2c7634bd4a61bbb71d1fdb6c8350\",\"comm_id\":\"3d3e58e149424db3b9d56e408a0d26fa\",\"plot_id\":\"11193\"},\"id\":\"11196\",\"type\":\"panel.models.comm_manager.CommManager\"},{\"attributes\":{\"children\":[{\"id\":\"11194\"},{\"id\":\"11195\"}],\"margin\":[0,0,0,0],\"min_width\":800,\"name\":\"Column00371\",\"width\":800},\"id\":\"11193\",\"type\":\"Column\"},{\"attributes\":{\"css_classes\":[\"markdown\"],\"margin\":[5,5,5,5],\"name\":\"Markdown00369\",\"text\":\"&lt;h4&gt;cuxfilter DashBoard&lt;/h4&gt;\\n&lt;div class=&quot;codehilite&quot;&gt;&lt;pre&gt;&lt;span&gt;&lt;/span&gt;&lt;code&gt;&lt;span class=&quot;o&quot;&gt;[&lt;/span&gt;&lt;span class=&quot;n&quot;&gt;title&lt;/span&gt;&lt;span class=&quot;o&quot;&gt;]&lt;/span&gt;&lt;span class=&quot;w&quot;&gt; &lt;/span&gt;&lt;span class=&quot;p&quot;&gt;(&lt;/span&gt;&lt;span class=&quot;n&quot;&gt;Markdown&lt;/span&gt;&lt;span class=&quot;p&quot;&gt;(&lt;/span&gt;&lt;span class=&quot;nf&quot;&gt;str&lt;/span&gt;&lt;span class=&quot;p&quot;&gt;),&lt;/span&gt;&lt;span class=&quot;w&quot;&gt; &lt;/span&gt;&lt;span class=&quot;err&quot;&gt;[]&lt;/span&gt;&lt;span class=&quot;p&quot;&gt;)&lt;/span&gt;&lt;span class=&quot;w&quot;&gt;&lt;/span&gt;\\n&lt;span class=&quot;o&quot;&gt;[&lt;/span&gt;&lt;span class=&quot;n&quot;&gt;chart1&lt;/span&gt;&lt;span class=&quot;o&quot;&gt;]&lt;/span&gt;&lt;span class=&quot;w&quot;&gt; &lt;/span&gt;&lt;span class=&quot;p&quot;&gt;(&lt;/span&gt;&lt;span class=&quot;n&quot;&gt;Markdown&lt;/span&gt;&lt;span class=&quot;p&quot;&gt;(&lt;/span&gt;&lt;span class=&quot;nf&quot;&gt;str&lt;/span&gt;&lt;span class=&quot;p&quot;&gt;),&lt;/span&gt;&lt;span class=&quot;w&quot;&gt; &lt;/span&gt;&lt;span class=&quot;err&quot;&gt;[]&lt;/span&gt;&lt;span class=&quot;p&quot;&gt;)&lt;/span&gt;&lt;span class=&quot;w&quot;&gt;&lt;/span&gt;\\n&lt;span class=&quot;o&quot;&gt;[&lt;/span&gt;&lt;span class=&quot;n&quot;&gt;widgets&lt;/span&gt;&lt;span class=&quot;o&quot;&gt;]&lt;/span&gt;&lt;span class=&quot;w&quot;&gt; &lt;/span&gt;&lt;span class=&quot;p&quot;&gt;(&lt;/span&gt;&lt;span class=&quot;k&quot;&gt;Column&lt;/span&gt;&lt;span class=&quot;w&quot;&gt;&lt;/span&gt;\\n&lt;span class=&quot;o&quot;&gt;[&lt;/span&gt;&lt;span class=&quot;n&quot;&gt;0&lt;/span&gt;&lt;span class=&quot;o&quot;&gt;]&lt;/span&gt;&lt;span class=&quot;w&quot;&gt; &lt;/span&gt;&lt;span class=&quot;k&quot;&gt;Column&lt;/span&gt;&lt;span class=&quot;p&quot;&gt;(&lt;/span&gt;&lt;span class=&quot;n&quot;&gt;css_classes&lt;/span&gt;&lt;span class=&quot;o&quot;&gt;=[&lt;/span&gt;&lt;span class=&quot;n&quot;&gt;&amp;#39;non-handle-temp&amp;#39;&lt;/span&gt;&lt;span class=&quot;o&quot;&gt;]&lt;/span&gt;&lt;span class=&quot;p&quot;&gt;,&lt;/span&gt;&lt;span class=&quot;w&quot;&gt; &lt;/span&gt;&lt;span class=&quot;n&quot;&gt;sizing_mode&lt;/span&gt;&lt;span class=&quot;o&quot;&gt;=&lt;/span&gt;&lt;span class=&quot;s1&quot;&gt;&amp;#39;scale_both&amp;#39;&lt;/span&gt;&lt;span class=&quot;p&quot;&gt;)&lt;/span&gt;&lt;span class=&quot;w&quot;&gt;&lt;/span&gt;\\n&lt;span class=&quot;w&quot;&gt;    &lt;/span&gt;&lt;span class=&quot;o&quot;&gt;[&lt;/span&gt;&lt;span class=&quot;n&quot;&gt;0&lt;/span&gt;&lt;span class=&quot;o&quot;&gt;]&lt;/span&gt;&lt;span class=&quot;w&quot;&gt; &lt;/span&gt;&lt;span class=&quot;n&quot;&gt;FloatSlider&lt;/span&gt;&lt;span class=&quot;p&quot;&gt;(&lt;/span&gt;&lt;span class=&quot;n&quot;&gt;bar_color&lt;/span&gt;&lt;span class=&quot;o&quot;&gt;=&lt;/span&gt;&lt;span class=&quot;s1&quot;&gt;&amp;#39;#4292c6&amp;#39;&lt;/span&gt;&lt;span class=&quot;p&quot;&gt;,&lt;/span&gt;&lt;span class=&quot;w&quot;&gt; &lt;/span&gt;&lt;span class=&quot;k&quot;&gt;end&lt;/span&gt;&lt;span class=&quot;o&quot;&gt;=&lt;/span&gt;&lt;span class=&quot;mi&quot;&gt;20370&lt;/span&gt;&lt;span class=&quot;p&quot;&gt;,&lt;/span&gt;&lt;span class=&quot;w&quot;&gt; &lt;/span&gt;&lt;span class=&quot;n&quot;&gt;name&lt;/span&gt;&lt;span class=&quot;o&quot;&gt;=&lt;/span&gt;&lt;span class=&quot;s1&quot;&gt;&amp;#39;Data Points selected&amp;#39;&lt;/span&gt;&lt;span class=&quot;p&quot;&gt;,&lt;/span&gt;&lt;span class=&quot;w&quot;&gt; &lt;/span&gt;&lt;span class=&quot;n&quot;&gt;sizing_mode&lt;/span&gt;&lt;span class=&quot;o&quot;&gt;=&lt;/span&gt;&lt;span class=&quot;s1&quot;&gt;&amp;#39;scale_both&amp;#39;&lt;/span&gt;&lt;span class=&quot;p&quot;&gt;,&lt;/span&gt;&lt;span class=&quot;w&quot;&gt; &lt;/span&gt;&lt;span class=&quot;k&quot;&gt;value&lt;/span&gt;&lt;span class=&quot;o&quot;&gt;=&lt;/span&gt;&lt;span class=&quot;mi&quot;&gt;20370&lt;/span&gt;&lt;span class=&quot;p&quot;&gt;,&lt;/span&gt;&lt;span class=&quot;w&quot;&gt; &lt;/span&gt;&lt;span class=&quot;n&quot;&gt;width&lt;/span&gt;&lt;span class=&quot;o&quot;&gt;=&lt;/span&gt;&lt;span class=&quot;mi&quot;&gt;280&lt;/span&gt;&lt;span class=&quot;p&quot;&gt;)&lt;/span&gt;&lt;span class=&quot;w&quot;&gt;&lt;/span&gt;\\n&lt;span class=&quot;o&quot;&gt;[&lt;/span&gt;&lt;span class=&quot;n&quot;&gt;1&lt;/span&gt;&lt;span class=&quot;o&quot;&gt;]&lt;/span&gt;&lt;span class=&quot;w&quot;&gt; &lt;/span&gt;&lt;span class=&quot;k&quot;&gt;Column&lt;/span&gt;&lt;span class=&quot;p&quot;&gt;(&lt;/span&gt;&lt;span class=&quot;n&quot;&gt;sizing_mode&lt;/span&gt;&lt;span class=&quot;o&quot;&gt;=&lt;/span&gt;&lt;span class=&quot;s1&quot;&gt;&amp;#39;scale_both&amp;#39;&lt;/span&gt;&lt;span class=&quot;p&quot;&gt;,&lt;/span&gt;&lt;span class=&quot;w&quot;&gt; &lt;/span&gt;&lt;span class=&quot;n&quot;&gt;width&lt;/span&gt;&lt;span class=&quot;o&quot;&gt;=&lt;/span&gt;&lt;span class=&quot;mi&quot;&gt;400&lt;/span&gt;&lt;span class=&quot;p&quot;&gt;)&lt;/span&gt;&lt;span class=&quot;w&quot;&gt;&lt;/span&gt;\\n&lt;span class=&quot;w&quot;&gt;    &lt;/span&gt;&lt;span class=&quot;o&quot;&gt;[&lt;/span&gt;&lt;span class=&quot;n&quot;&gt;0&lt;/span&gt;&lt;span class=&quot;o&quot;&gt;]&lt;/span&gt;&lt;span class=&quot;w&quot;&gt; &lt;/span&gt;&lt;span class=&quot;k&quot;&gt;Select&lt;/span&gt;&lt;span class=&quot;p&quot;&gt;(&lt;/span&gt;&lt;span class=&quot;n&quot;&gt;css_classes&lt;/span&gt;&lt;span class=&quot;o&quot;&gt;=[&lt;/span&gt;&lt;span class=&quot;n&quot;&gt;&amp;#39;custom-dropdown&amp;#39;&lt;/span&gt;&lt;span class=&quot;o&quot;&gt;]&lt;/span&gt;&lt;span class=&quot;p&quot;&gt;,&lt;/span&gt;&lt;span class=&quot;w&quot;&gt; &lt;/span&gt;&lt;span class=&quot;n&quot;&gt;height&lt;/span&gt;&lt;span class=&quot;o&quot;&gt;=&lt;/span&gt;&lt;span class=&quot;mi&quot;&gt;50&lt;/span&gt;&lt;span class=&quot;p&quot;&gt;,&lt;/span&gt;&lt;span class=&quot;w&quot;&gt; &lt;/span&gt;&lt;span class=&quot;n&quot;&gt;name&lt;/span&gt;&lt;span class=&quot;o&quot;&gt;=&lt;/span&gt;&lt;span class=&quot;s1&quot;&gt;&amp;#39;CODIGO&amp;#39;&lt;/span&gt;&lt;span class=&quot;p&quot;&gt;,&lt;/span&gt;&lt;span class=&quot;w&quot;&gt; &lt;/span&gt;&lt;span class=&quot;n&quot;&gt;options&lt;/span&gt;&lt;span class=&quot;o&quot;&gt;=[&lt;/span&gt;&lt;span class=&quot;n&quot;&gt;-1.0, 1.0, 2.0, ...&lt;/span&gt;&lt;span class=&quot;o&quot;&gt;]&lt;/span&gt;&lt;span class=&quot;p&quot;&gt;,&lt;/span&gt;&lt;span class=&quot;w&quot;&gt; &lt;/span&gt;&lt;span class=&quot;n&quot;&gt;sizing_mode&lt;/span&gt;&lt;span class=&quot;o&quot;&gt;=&lt;/span&gt;&lt;span class=&quot;s1&quot;&gt;&amp;#39;scale_both&amp;#39;&lt;/span&gt;&lt;span class=&quot;p&quot;&gt;,&lt;/span&gt;&lt;span class=&quot;w&quot;&gt; &lt;/span&gt;&lt;span class=&quot;n&quot;&gt;width&lt;/span&gt;&lt;span class=&quot;o&quot;&gt;=&lt;/span&gt;&lt;span class=&quot;mi&quot;&gt;280&lt;/span&gt;&lt;span class=&quot;p&quot;&gt;),&lt;/span&gt;&lt;span class=&quot;w&quot;&gt; &lt;/span&gt;&lt;span class=&quot;err&quot;&gt;[]&lt;/span&gt;&lt;span class=&quot;p&quot;&gt;)&lt;/span&gt;&lt;span class=&quot;w&quot;&gt;&lt;/span&gt;\\n&lt;/code&gt;&lt;/pre&gt;&lt;/div&gt;\"},\"id\":\"11194\",\"type\":\"panel.models.markup.HTML\"},{\"attributes\":{\"margin\":[5,5,5,5],\"name\":\"HTML00367\"},\"id\":\"11195\",\"type\":\"panel.models.markup.HTML\"}],\"root_ids\":[\"11193\",\"11196\"]},\"title\":\"Bokeh Application\",\"version\":\"2.2.3\"}};\n",
       "  var render_items = [{\"docid\":\"6686dcb1-6fdd-43d4-b325-567f46a669b6\",\"root_ids\":[\"11193\"],\"roots\":{\"11193\":\"f1e79687-277e-4d45-9253-e24ca7990a89\"}}];\n",
       "  root.Bokeh.embed.embed_items_notebook(docs_json, render_items);\n",
       "  }\n",
       "if (root.Bokeh !== undefined) {\n",
       "    embed_document(root);\n",
       "  } else {\n",
       "    var attempts = 0;\n",
       "    var timer = setInterval(function(root) {\n",
       "      if (root.Bokeh !== undefined) {\n",
       "        clearInterval(timer);\n",
       "        embed_document(root);\n",
       "      } else if (document.readyState == \"complete\") {\n",
       "        attempts++;\n",
       "        if (attempts > 100) {\n",
       "          clearInterval(timer);\n",
       "          console.log(\"Bokeh: ERROR: Unable to run BokehJS code because BokehJS library is missing\");\n",
       "        }\n",
       "      }\n",
       "    }, 10, root)\n",
       "  }\n",
       "})(window);</script>"
      ],
      "text/plain": [
       "#### cuxfilter DashBoard\n",
       "    \n",
       "    [title] (Markdown(str), [])\n",
       "    [chart1] (Markdown(str), [])\n",
       "    [widgets] (Column\n",
       "    [0] Column(css_classes=['non-handle-temp'], sizing_mode='scale_both')\n",
       "        [0] FloatSlider(bar_color='#4292c6', end=20370, name='Data Points selected', sizing_mode='scale_both', value=20370, width=280)\n",
       "    [1] Column(sizing_mode='scale_both', width=400)\n",
       "        [0] Select(css_classes=['custom-dropdown'], height=50, name='CODIGO', options=[-1.0, 1.0, 2.0, ...], sizing_mode='scale_both', width=280), [])"
      ]
     },
     "execution_count": 79,
     "metadata": {
      "application/vnd.holoviews_exec.v0+json": {
       "id": "11193"
      }
     },
     "output_type": "execute_result"
    }
   ],
   "source": [
    "#dashboard object\n",
    "d"
   ]
  },
  {
   "cell_type": "code",
   "execution_count": 80,
   "metadata": {},
   "outputs": [
    {
     "name": "stdout",
     "output_type": "stream",
     "text": [
      "Dashboard running at port 43053\n"
     ]
    },
    {
     "data": {},
     "metadata": {},
     "output_type": "display_data"
    },
    {
     "data": {
      "application/vnd.holoviews_exec.v0+json": "",
      "text/html": [
       "<div id='11197'>\n",
       "\n",
       "\n",
       "\n",
       "\n",
       "\n",
       "  <div class=\"bk-root\" id=\"2092a219-094e-499e-9b8b-6bdf58e1ca52\" data-root-id=\"11197\"></div>\n",
       "</div>\n",
       "<script type=\"application/javascript\">(function(root) {\n",
       "  function embed_document(root) {\n",
       "  var docs_json = {\"7755cd0d-8324-47e4-82d5-64ce58075e19\":{\"roots\":{\"references\":[{\"attributes\":{\"button_type\":\"success\",\"icon\":null,\"js_event_callbacks\":{\"button_click\":[{\"id\":\"11199\"}]},\"label\":\"open cuxfilter dashboard\",\"margin\":[5,10,5,10],\"subscribed_events\":[\"button_click\"]},\"id\":\"11198\",\"type\":\"Button\"},{\"attributes\":{\"client_comm_id\":\"0603dc7af8cd4facb7c6a115958f4b54\",\"comm_id\":\"d95604b0eae44ef394282e60a06aca1b\",\"plot_id\":\"11197\"},\"id\":\"11200\",\"type\":\"panel.models.comm_manager.CommManager\"},{\"attributes\":{\"children\":[{\"id\":\"11198\"}],\"margin\":[0,0,0,0],\"name\":\"Row00404\"},\"id\":\"11197\",\"type\":\"Row\"},{\"attributes\":{\"args\":{\"source\":{\"id\":\"11198\"},\"target\":\"http://localhost:8888/proxy/43053/\"},\"code\":\"try { window.open(target) } catch(err) { console.log(err) }\",\"tags\":[139819669714384]},\"id\":\"11199\",\"type\":\"CustomJS\"}],\"root_ids\":[\"11197\",\"11200\"]},\"title\":\"Bokeh Application\",\"version\":\"2.2.3\"}};\n",
       "  var render_items = [{\"docid\":\"7755cd0d-8324-47e4-82d5-64ce58075e19\",\"root_ids\":[\"11197\"],\"roots\":{\"11197\":\"2092a219-094e-499e-9b8b-6bdf58e1ca52\"}}];\n",
       "  root.Bokeh.embed.embed_items_notebook(docs_json, render_items);\n",
       "  }\n",
       "if (root.Bokeh !== undefined) {\n",
       "    embed_document(root);\n",
       "  } else {\n",
       "    var attempts = 0;\n",
       "    var timer = setInterval(function(root) {\n",
       "      if (root.Bokeh !== undefined) {\n",
       "        clearInterval(timer);\n",
       "        embed_document(root);\n",
       "      } else if (document.readyState == \"complete\") {\n",
       "        attempts++;\n",
       "        if (attempts > 100) {\n",
       "          clearInterval(timer);\n",
       "          console.log(\"Bokeh: ERROR: Unable to run BokehJS code because BokehJS library is missing\");\n",
       "        }\n",
       "      }\n",
       "    }, 10, root)\n",
       "  }\n",
       "})(window);</script>"
      ],
      "text/plain": [
       "Row\n",
       "    [0] Button(button_type='success', name='open cuxfilter d...)"
      ]
     },
     "execution_count": 80,
     "metadata": {
      "application/vnd.holoviews_exec.v0+json": {
       "id": "11197"
      }
     },
     "output_type": "execute_result"
    }
   ],
   "source": [
    "d.show()"
   ]
  },
  {
   "cell_type": "code",
   "execution_count": null,
   "metadata": {},
   "outputs": [],
   "source": []
  }
 ],
 "metadata": {
  "kernelspec": {
   "display_name": "Python 3",
   "language": "python",
   "name": "python3"
  },
  "language_info": {
   "codemirror_mode": {
    "name": "ipython",
    "version": 3
   },
   "file_extension": ".py",
   "mimetype": "text/x-python",
   "name": "python",
   "nbconvert_exporter": "python",
   "pygments_lexer": "ipython3",
   "version": "3.7.6"
  }
 },
 "nbformat": 4,
 "nbformat_minor": 4
}
